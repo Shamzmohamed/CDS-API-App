{
 "cells": [
  {
   "cell_type": "code",
   "execution_count": 1,
   "metadata": {},
   "outputs": [
    {
     "name": "stdout",
     "output_type": "stream",
     "text": [
      "Defaulting to user installation because normal site-packages is not writeable\n",
      "Requirement already satisfied: netcdf4 in /home/mohamed/.local/lib/python3.10/site-packages (1.6.4)\n",
      "Requirement already satisfied: numpy in /home/mohamed/.local/lib/python3.10/site-packages (from netcdf4) (1.26.0)\n",
      "Requirement already satisfied: cftime in /home/mohamed/.local/lib/python3.10/site-packages (from netcdf4) (1.6.2)\n",
      "Requirement already satisfied: certifi in /usr/lib/python3/dist-packages (from netcdf4) (2020.6.20)\n",
      "Note: you may need to restart the kernel to use updated packages.\n"
     ]
    }
   ],
   "source": [
    "bpip install netcdf4"
   ]
  },
  {
   "cell_type": "code",
   "execution_count": 2,
   "metadata": {},
   "outputs": [],
   "source": [
    "import netCDF4\n",
    "import pyproj"
   ]
  },
  {
   "cell_type": "code",
   "execution_count": 3,
   "metadata": {},
   "outputs": [],
   "source": [
    "nc_file = netCDF4.Dataset('/home/mohamed/Downloads/Raj work/ERA5_ssrd_20200101.nc', 'r')"
   ]
  },
  {
   "cell_type": "code",
   "execution_count": 4,
   "metadata": {},
   "outputs": [
    {
     "name": "stdout",
     "output_type": "stream",
     "text": [
      "CRS information not found in the NetCDF file.\n"
     ]
    }
   ],
   "source": [
    "if 'crs' in nc_file.variables:\n",
    "    crs = nc_file.variables['crs']\n",
    "    print(crs)\n",
    "else:\n",
    "    print(\"CRS information not found in the NetCDF file.\")"
   ]
  },
  {
   "cell_type": "code",
   "execution_count": 5,
   "metadata": {},
   "outputs": [
    {
     "name": "stdout",
     "output_type": "stream",
     "text": [
      "CRS information not found in the NetCDF file.\n"
     ]
    }
   ],
   "source": [
    "if 'crs' in nc_file.variables:\n",
    "    crs = nc_file.variables['crs']\n",
    "    crs_string = crs.getncattr('grid_mapping_name')\n",
    "    projection = pyproj.Proj(crs_string)\n",
    "    # You can now use 'projection' to transform coordinates.\n",
    "else:\n",
    "    print(\"CRS information not found in the NetCDF file.\")"
   ]
  },
  {
   "cell_type": "code",
   "execution_count": 9,
   "metadata": {},
   "outputs": [
    {
     "name": "stdout",
     "output_type": "stream",
     "text": [
      "Defaulting to user installation because normal site-packages is not writeable\n",
      "Requirement already satisfied: netCDF4 in /home/mohamed/.local/lib/python3.10/site-packages (1.6.4)\n",
      "Requirement already satisfied: certifi in /usr/lib/python3/dist-packages (from netCDF4) (2020.6.20)\n",
      "Requirement already satisfied: numpy in /home/mohamed/.local/lib/python3.10/site-packages (from netCDF4) (1.26.0)\n",
      "Requirement already satisfied: cftime in /home/mohamed/.local/lib/python3.10/site-packages (from netCDF4) (1.6.2)\n",
      "Note: you may need to restart the kernel to use updated packages.\n"
     ]
    }
   ],
   "source": [
    "pip install netCDF4"
   ]
  },
  {
   "cell_type": "code",
   "execution_count": 10,
   "metadata": {},
   "outputs": [
    {
     "ename": "AttributeError",
     "evalue": "NetCDF: Attribute not found",
     "output_type": "error",
     "traceback": [
      "\u001b[0;31m---------------------------------------------------------------------------\u001b[0m",
      "\u001b[0;31mAttributeError\u001b[0m                            Traceback (most recent call last)",
      "\u001b[1;32m/home/mohamed/Documents/CDS-API-Connect/CDS-API-App/projection.ipynb Cell 7\u001b[0m line \u001b[0;36m1\n\u001b[1;32m      <a href='vscode-notebook-cell:/home/mohamed/Documents/CDS-API-Connect/CDS-API-App/projection.ipynb#X10sZmlsZQ%3D%3D?line=7'>8</a>\u001b[0m longitude \u001b[39m=\u001b[39m nc_file\u001b[39m.\u001b[39mvariables[\u001b[39m'\u001b[39m\u001b[39mlongitude\u001b[39m\u001b[39m'\u001b[39m]\n\u001b[1;32m     <a href='vscode-notebook-cell:/home/mohamed/Documents/CDS-API-Connect/CDS-API-App/projection.ipynb#X10sZmlsZQ%3D%3D?line=9'>10</a>\u001b[0m \u001b[39m# Get the projection of the latitude and longitude variables\u001b[39;00m\n\u001b[0;32m---> <a href='vscode-notebook-cell:/home/mohamed/Documents/CDS-API-Connect/CDS-API-App/projection.ipynb#X10sZmlsZQ%3D%3D?line=10'>11</a>\u001b[0m latitude_projection \u001b[39m=\u001b[39m latitude\u001b[39m.\u001b[39;49mcoordinates[\u001b[39m'\u001b[39m\u001b[39mlatitude\u001b[39m\u001b[39m'\u001b[39m]\u001b[39m.\u001b[39munits\n\u001b[1;32m     <a href='vscode-notebook-cell:/home/mohamed/Documents/CDS-API-Connect/CDS-API-App/projection.ipynb#X10sZmlsZQ%3D%3D?line=11'>12</a>\u001b[0m longitude_projection \u001b[39m=\u001b[39m longitude\u001b[39m.\u001b[39mcoordinates[\u001b[39m'\u001b[39m\u001b[39mlongitude\u001b[39m\u001b[39m'\u001b[39m]\u001b[39m.\u001b[39munits\n\u001b[1;32m     <a href='vscode-notebook-cell:/home/mohamed/Documents/CDS-API-Connect/CDS-API-App/projection.ipynb#X10sZmlsZQ%3D%3D?line=13'>14</a>\u001b[0m \u001b[39m# Close the NetCDF file\u001b[39;00m\n",
      "File \u001b[0;32msrc/netCDF4/_netCDF4.pyx:4909\u001b[0m, in \u001b[0;36mnetCDF4._netCDF4.Variable.__getattr__\u001b[0;34m()\u001b[0m\n",
      "File \u001b[0;32msrc/netCDF4/_netCDF4.pyx:4631\u001b[0m, in \u001b[0;36mnetCDF4._netCDF4.Variable.getncattr\u001b[0;34m()\u001b[0m\n",
      "File \u001b[0;32msrc/netCDF4/_netCDF4.pyx:1545\u001b[0m, in \u001b[0;36mnetCDF4._netCDF4._get_att\u001b[0;34m()\u001b[0m\n",
      "File \u001b[0;32msrc/netCDF4/_netCDF4.pyx:2029\u001b[0m, in \u001b[0;36mnetCDF4._netCDF4._ensure_nc_success\u001b[0;34m()\u001b[0m\n",
      "\u001b[0;31mAttributeError\u001b[0m: NetCDF: Attribute not found"
     ]
    }
   ],
   "source": [
    "import netCDF4 as nc\n",
    "\n",
    "# Open the NetCDF file\n",
    "nc_file = nc.Dataset('/home/mohamed/Downloads/Raj work/ERA5_ssrd_20200101.nc', 'r')\n",
    "\n",
    "# Get the latitude and longitude variables\n",
    "latitude = nc_file.variables['latitude']\n",
    "longitude = nc_file.variables['longitude']\n",
    "\n",
    "# Get the projection of the latitude and longitude variables\n",
    "latitude_projection = latitude.coordinates['latitude'].units\n",
    "longitude_projection = longitude.coordinates['longitude'].units\n",
    "\n",
    "# Close the NetCDF file\n",
    "nc_file.close()\n",
    "\n",
    "# Print the projection of the data\n",
    "print('Projection: {} {}'.format(latitude_projection, longitude_projection))\n"
   ]
  },
  {
   "cell_type": "code",
   "execution_count": 4,
   "metadata": {},
   "outputs": [
    {
     "name": "stdout",
     "output_type": "stream",
     "text": [
      "CRS information not found in the NetCDF file.\n"
     ]
    }
   ],
   "source": [
    "if 'crs' in nc_file.ncattrs():\n",
    "    crs = nc_file.getncattr('crs')\n",
    "    print(crs)\n",
    "else:\n",
    "    print(\"CRS information not found in the NetCDF file.\")"
   ]
  }
 ],
 "metadata": {
  "kernelspec": {
   "display_name": "Python 3",
   "language": "python",
   "name": "python3"
  },
  "language_info": {
   "codemirror_mode": {
    "name": "ipython",
    "version": 3
   },
   "file_extension": ".py",
   "mimetype": "text/x-python",
   "name": "python",
   "nbconvert_exporter": "python",
   "pygments_lexer": "ipython3",
   "version": "3.10.12"
  }
 },
 "nbformat": 4,
 "nbformat_minor": 2
}
