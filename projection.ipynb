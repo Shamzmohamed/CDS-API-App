{
 "cells": [
  {
   "cell_type": "code",
   "execution_count": 3,
   "metadata": {},
   "outputs": [
    {
     "data": {
      "text/plain": [
       "'/home/mohamed/Documents/CDS-API-Connect/CDS-API-App/t2m_201801.tif'"
      ]
     },
     "execution_count": 3,
     "metadata": {},
     "output_type": "execute_result"
    }
   ],
   "source": [
    "import leafmap\n",
    "\n",
    "# Define the paths to your NetCDF dataset and the output GeoTIFF file\n",
    "datapath = '/home/mohamed/Documents/ERA5/Data/t2m_201801.nc'\n",
    "tif = 't2m_201801.tif'  # Output GeoTIFF file\n",
    "\n",
    "# Specify the variable name to be converted (e.g., 't2m' based on your dataset)\n",
    "variable_name = 't2m'\n",
    "lat_var = 'latitude'\n",
    "lon_var = 'longitude'\n",
    "\n",
    "# Convert the NetCDF dataset to GeoTIFF with latitude and longitude specified\n",
    "leafmap.netcdf_to_tif(datapath, tif, variables=[variable_name], shift_lon=True, lat=lat_var, lon=lon_var)\n"
   ]
  },
  {
   "cell_type": "code",
   "execution_count": 1,
   "metadata": {},
   "outputs": [],
   "source": [
    "from osgeo import gdal, osr\n",
    "from netCDF4 import Dataset\n",
    "\n",
    "# Input NetCDF file\n",
    "input_nc_file = \"/home/mohamed/Documents/ERA5/Data/t2m_201801.nc\"\n",
    "\n",
    "# Output GeoTIFF file\n",
    "output_geotiff = \"/home/mohamed/Documents/ERA5/Data/t2mconv.tif\"\n",
    "\n",
    "# Open the NetCDF file\n",
    "nc_dataset = Dataset(input_nc_file, \"r\")\n",
    "\n",
    "# Get the data array and dimensions\n",
    "data = nc_dataset.variables['t2m'][0, :, :]  # Replace 'variable_name' with the actual variable name in your NetCDF file\n",
    "x_dim = nc_dataset.variables['longitude']\n",
    "y_dim = nc_dataset.variables['latitude']\n",
    "\n",
    "# Create a new GeoTIFF file\n",
    "driver = gdal.GetDriverByName(\"GTiff\")\n",
    "output_ds = driver.Create(output_geotiff, len(x_dim), len(y_dim), 1, gdal.GDT_Float32)\n",
    "\n",
    "# Set the GeoTransform (assuming a regular grid)\n",
    "x_start, x_step = x_dim[0], x_dim[1] - x_dim[0]\n",
    "y_start, y_step = y_dim[0], y_dim[1] - y_dim[0]\n",
    "output_ds.SetGeoTransform((x_start, x_step, 0, y_start, 0, y_step))\n",
    "\n",
    "# Set the spatial reference (EPSG:4326 for WGS84)\n",
    "srs = osr.SpatialReference()\n",
    "srs.ImportFromEPSG(4326)\n",
    "output_ds.SetProjection(srs.ExportToWkt())\n",
    "\n",
    "# Write the data to the GeoTIFF file\n",
    "output_band = output_ds.GetRasterBand(1)\n",
    "output_band.WriteArray(data)\n",
    "\n",
    "# Close the datasets\n",
    "output_ds = None\n",
    "nc_dataset.close()"
   ]
  },
  {
   "cell_type": "code",
   "execution_count": 4,
   "metadata": {},
   "outputs": [],
   "source": [
    "geojson = 'https://github.com/opengeos/leafmap/raw/master/examples/data/countries.geojson'"
   ]
  },
  {
   "cell_type": "code",
   "execution_count": 5,
   "metadata": {},
   "outputs": [],
   "source": [
    "tif='/home/mohamed/Documents/CDS-API-Connect/CDS-API-App/t2m_201801.tif'"
   ]
  },
  {
   "cell_type": "code",
   "execution_count": 11,
   "metadata": {},
   "outputs": [
    {
     "data": {
      "image/png": "[encoded data removed]",
      "text/html": [
       "<div style=\"vertical-align: middle;\"><strong>coolwarm</strong> </div><div class=\"cmap\"><img alt=\"coolwarm colormap\" title=\"coolwarm\" style=\"border: 1px solid #555;\" src=\"data:image/png;base64,iVBORw0KGgoAAAANSUhEUgAAAgAAAABACAYAAABsv8+/AAAAF3RFWHRUaXRsZQBjb29sd2FybSBjb2xvcm1hcPHW9i4AAAAddEVYdERlc2NyaXB0aW9uAGNvb2x3YXJtIGNvbG9ybWFw2KgRBwAAADB0RVh0QXV0aG9yAE1hdHBsb3RsaWIgdjMuNS4xLCBodHRwczovL21hdHBsb3RsaWIub3Jn97fOzwAAADJ0RVh0U29mdHdhcmUATWF0cGxvdGxpYiB2My41LjEsIGh0dHBzOi8vbWF0cGxvdGxpYi5vcmfZEVHoAAACIUlEQVR4nO3WO3LbQBBF0QaW5TV40d6XTIwTCCo2MQQYOHrnJKr5NRip7vLr959RVbUsS1VVLetaVVXr+rzu50s7X2fnt+cu+/n5/nF+8Z315buz9/3310fzXvfrfP73nOn8mnzv+f7xfva9/bzPu9w/vnM+b36v3t+72J/fGxfvx739mt1v82tyXv13jPO5x7175y/fm53f3F/7fm333vf7o+2P7cP18371e+P9nOrvR/995/e+59ZkPZ17rN/fO+Zufe75vdr67znfv3o3tnv3Lt/t69HW3+fH/Zc579+/rLc2r82fzevf7/ePv+Pq3uTdf9rfHu/v/5y3e/v+1uc/tud3j8m84/0+72tf/x2frb+e/18BAEEEAAAEEgAAEEgAAEAgAQAAgQQAAAQSAAAQSAAAQCABAACBBAAABBIAABBIAABAIAEAAIEEAAAEEgAAEEgAAEAgAQAAgQQAAAQSAAAQSAAAQCABAACBBAAABBIAABBIAABAIAEAAIEEAAAEEgAAEEgAAEAgAQAAgQQAAAQSAAAQSAAAQCABAACBBAAABBIAABBIAABAIAEAAIEEAAAEEgAAEEgAAEAgAQAAgQQAAAQSAAAQSAAAQCABAACBBAAABBIAABBIAABAIAEAAIEEAAAEEgAAEEgAAEAgAQAAgQQAAAQSAAAQSAAAQCABAACBBAAABBIAABBIAABAIAEAAIEEAAAEEgAAEOgf6GZUalYlbg8AAAAASUVORK5CYII=\"></div><div style=\"vertical-align: middle; max-width: 514px; display: flex; justify-content: space-between;\"><div style=\"float: left;\"><div title=\"#3b4cc0ff\" style=\"display: inline-block; width: 1em; height: 1em; margin: 0; vertical-align: middle; border: 1px solid #555; background-color: #3b4cc0ff;\"></div> under</div><div style=\"margin: 0 auto; display: inline-block;\">bad <div title=\"#00000000\" style=\"display: inline-block; width: 1em; height: 1em; margin: 0; vertical-align: middle; border: 1px solid #555; background-color: #00000000;\"></div></div><div style=\"float: right;\">over <div title=\"#b40426ff\" style=\"display: inline-block; width: 1em; height: 1em; margin: 0; vertical-align: middle; border: 1px solid #555; background-color: #b40426ff;\"></div></div>"
      ],
      "text/plain": [
       "<matplotlib.colors.LinearSegmentedColormap at 0x7f7ad4cd6ec0>"
      ]
     },
     "execution_count": 11,
     "metadata": {},
     "output_type": "execute_result"
    }
   ],
   "source": [
    "import matplotlib.pyplot as plt\n",
    "plt.get_cmap('coolwarm')"
   ]
  },
  {
   "cell_type": "code",
   "execution_count": null,
   "metadata": {},
   "outputs": [],
   "source": [
    "m = leafmap.Map(layers_control=True)\n",
    "m.add_raster(tif, band=[1], palette='coolwarm', layer_name='t2m')\n",
    "m.add_geojson(geojson, layer_name='Countries')\n",
    "m"
   ]
  },
  {
   "cell_type": "code",
   "execution_count": 18,
   "metadata": {},
   "outputs": [
    {
     "data": {
      "text/html": [
       "\n",
       "            <style>\n",
       "                .geemap-dark {\n",
       "                    --jp-widgets-color: white;\n",
       "                    --jp-widgets-label-color: white;\n",
       "                    --jp-ui-font-color1: white;\n",
       "                    --jp-layout-color2: #454545;\n",
       "                    background-color: #383838;\n",
       "                }\n",
       "                    \n",
       "                .geemap-dark .jupyter-button {\n",
       "                    --jp-layout-color3: #383838;\n",
       "                }\n",
       "                \n",
       "                .geemap-colab {\n",
       "                    background-color: var(--colab-primary-surface-color, white);\n",
       "                }\n",
       "                    \n",
       "                .geemap-colab .jupyter-button {\n",
       "                    --jp-layout-color3: var(--colab-primary-surface-color, white);\n",
       "                }\n",
       "            </style>\n",
       "            "
      ],
      "text/plain": [
       "<IPython.core.display.HTML object>"
      ]
     },
     "metadata": {},
     "output_type": "display_data"
    },
    {
     "data": {
      "text/html": [
       "<div style=\"width:100%;\"><div style=\"position:relative;width:100%;height:0;padding-bottom:60%;\"><span style=\"color:#565656\">Make this Notebook Trusted to load map: File -> Trust Notebook</span><iframe srcdoc=\"&lt;!DOCTYPE html&gt;\n",
       "&lt;html&gt;\n",
       "&lt;head&gt;\n",
       "    \n",
       "    &lt;meta http-equiv=&quot;content-type&quot; content=&quot;text/html; charset=UTF-8&quot; /&gt;\n",
       "    \n",
       "        &lt;script&gt;\n",
       "            L_NO_TOUCH = false;\n",
       "            L_DISABLE_3D = false;\n",
       "        &lt;/script&gt;\n",
       "    \n",
       "    &lt;style&gt;html, body {width: 100%;height: 100%;margin: 0;padding: 0;}&lt;/style&gt;\n",
       "    &lt;style&gt;#map {position:absolute;top:0;bottom:0;right:0;left:0;}&lt;/style&gt;\n",
       "    &lt;script src=&quot;https://cdn.jsdelivr.net/npm/leaflet@1.9.3/dist/leaflet.js&quot;&gt;&lt;/script&gt;\n",
       "    &lt;script src=&quot;https://code.jquery.com/jquery-1.12.4.min.js&quot;&gt;&lt;/script&gt;\n",
       "    &lt;script src=&quot;https://cdn.jsdelivr.net/npm/bootstrap@5.2.2/dist/js/bootstrap.bundle.min.js&quot;&gt;&lt;/script&gt;\n",
       "    &lt;script src=&quot;https://cdnjs.cloudflare.com/ajax/libs/Leaflet.awesome-markers/2.0.2/leaflet.awesome-markers.js&quot;&gt;&lt;/script&gt;\n",
       "    &lt;link rel=&quot;stylesheet&quot; href=&quot;https://cdn.jsdelivr.net/npm/leaflet@1.9.3/dist/leaflet.css&quot;/&gt;\n",
       "    &lt;link rel=&quot;stylesheet&quot; href=&quot;https://cdn.jsdelivr.net/npm/bootstrap@5.2.2/dist/css/bootstrap.min.css&quot;/&gt;\n",
       "    &lt;link rel=&quot;stylesheet&quot; href=&quot;https://netdna.bootstrapcdn.com/bootstrap/3.0.0/css/bootstrap.min.css&quot;/&gt;\n",
       "    &lt;link rel=&quot;stylesheet&quot; href=&quot;https://cdn.jsdelivr.net/npm/@fortawesome/fontawesome-free@6.2.0/css/all.min.css&quot;/&gt;\n",
       "    &lt;link rel=&quot;stylesheet&quot; href=&quot;https://cdnjs.cloudflare.com/ajax/libs/Leaflet.awesome-markers/2.0.2/leaflet.awesome-markers.css&quot;/&gt;\n",
       "    &lt;link rel=&quot;stylesheet&quot; href=&quot;https://cdn.jsdelivr.net/gh/python-visualization/folium/folium/templates/leaflet.awesome.rotate.min.css&quot;/&gt;\n",
       "    \n",
       "            &lt;meta name=&quot;viewport&quot; content=&quot;width=device-width,\n",
       "                initial-scale=1.0, maximum-scale=1.0, user-scalable=no&quot; /&gt;\n",
       "            &lt;style&gt;\n",
       "                #map_0283da3781ee2b1eca40353fc02956e0 {\n",
       "                    position: relative;\n",
       "                    width: 100.0%;\n",
       "                    height: 100.0%;\n",
       "                    left: 0.0%;\n",
       "                    top: 0.0%;\n",
       "                }\n",
       "                .leaflet-container { font-size: 1rem; }\n",
       "            &lt;/style&gt;\n",
       "        \n",
       "&lt;/head&gt;\n",
       "&lt;body&gt;\n",
       "    \n",
       "    \n",
       "            &lt;div class=&quot;folium-map&quot; id=&quot;map_0283da3781ee2b1eca40353fc02956e0&quot; &gt;&lt;/div&gt;\n",
       "        \n",
       "&lt;/body&gt;\n",
       "&lt;script&gt;\n",
       "    \n",
       "    \n",
       "            var map_0283da3781ee2b1eca40353fc02956e0 = L.map(\n",
       "                &quot;map_0283da3781ee2b1eca40353fc02956e0&quot;,\n",
       "                {\n",
       "                    center: [0.0, 179.875],\n",
       "                    crs: L.CRS.EPSG3857,\n",
       "                    zoom: 5,\n",
       "                    zoomControl: true,\n",
       "                    preferCanvas: false,\n",
       "                }\n",
       "            );\n",
       "\n",
       "            \n",
       "\n",
       "        \n",
       "    \n",
       "            var tile_layer_e5f54026b0413206e354150e5f2ebcf5 = L.tileLayer(\n",
       "                &quot;https://{s}.tile.openstreetmap.org/{z}/{x}/{y}.png&quot;,\n",
       "                {&quot;attribution&quot;: &quot;Data by \\u0026copy; \\u003ca target=\\&quot;_blank\\&quot; href=\\&quot;http://openstreetmap.org\\&quot;\\u003eOpenStreetMap\\u003c/a\\u003e, under \\u003ca target=\\&quot;_blank\\&quot; href=\\&quot;http://www.openstreetmap.org/copyright\\&quot;\\u003eODbL\\u003c/a\\u003e.&quot;, &quot;detectRetina&quot;: false, &quot;maxNativeZoom&quot;: 18, &quot;maxZoom&quot;: 18, &quot;minZoom&quot;: 0, &quot;noWrap&quot;: false, &quot;opacity&quot;: 1, &quot;subdomains&quot;: &quot;abc&quot;, &quot;tms&quot;: false}\n",
       "            ).addTo(map_0283da3781ee2b1eca40353fc02956e0);\n",
       "        \n",
       "    \n",
       "            var feature_group_38f78e63429e79d97b0ef18d4e528ed0 = L.featureGroup(\n",
       "                {}\n",
       "            ).addTo(map_0283da3781ee2b1eca40353fc02956e0);\n",
       "        \n",
       "    \n",
       "            var layer_control_ff43726e97a248f594be5ffcc3cef4b8 = {\n",
       "                base_layers : {\n",
       "                    &quot;openstreetmap&quot; : tile_layer_e5f54026b0413206e354150e5f2ebcf5,\n",
       "                },\n",
       "                overlays :  {\n",
       "                    &quot;2m Temperature&quot; : feature_group_38f78e63429e79d97b0ef18d4e528ed0,\n",
       "                },\n",
       "            };\n",
       "            L.control.layers(\n",
       "                layer_control_ff43726e97a248f594be5ffcc3cef4b8.base_layers,\n",
       "                layer_control_ff43726e97a248f594be5ffcc3cef4b8.overlays,\n",
       "                {&quot;autoZIndex&quot;: true, &quot;collapsed&quot;: true, &quot;position&quot;: &quot;topright&quot;}\n",
       "            ).addTo(map_0283da3781ee2b1eca40353fc02956e0);\n",
       "        \n",
       "&lt;/script&gt;\n",
       "&lt;/html&gt;\" style=\"position:absolute;width:100%;height:100%;left:0;top:0;border:none !important;\" allowfullscreen webkitallowfullscreen mozallowfullscreen></iframe></div></div>"
      ],
      "text/plain": [
       "<folium.folium.Map at 0x7f31a07cfdf0>"
      ]
     },
     "metadata": {},
     "output_type": "display_data"
    }
   ],
   "source": [
    "import folium\n",
    "import xarray as xr\n",
    "import numpy as np\n",
    "import ipywidgets as widgets\n",
    "from folium.plugins import HeatMap\n",
    "from IPython.display import display\n",
    "\n",
    "# Load the NetCDF file\n",
    "netcdf_url = \"/home/mohamed/Documents/ERA5/Data/t2m_20180106.nc\"\n",
    "ds = xr.open_dataset(netcdf_url)\n",
    "t2m = ds[\"t2m\"].values\n",
    "\n",
    "# Create a Folium Map\n",
    "m = folium.Map(location=[lat.mean(), lon.mean()], zoom_start=5)\n",
    "\n",
    "# Get the latitude and longitude arrays\n",
    "lat = ds[\"latitude\"].values\n",
    "lon = ds[\"longitude\"].values\n",
    "\n",
    "heatmaps = []\n",
    "t2m_layer = folium.FeatureGroup(name='2m Temperature')  # Create a FeatureGroup for t2m data\n",
    "\n",
    "def update_heatmap(time_step):\n",
    "    if heatmaps:\n",
    "        for heatmap in heatmaps:\n",
    "            m.remove_child(heatmap)\n",
    "        heatmaps.clear()\n",
    "\n",
    "    heatmap_data = list(zip(lat, lon, t2m[time_step]))\n",
    "    folium_heatmap = HeatMap(heatmap_data, radius=5, gradient={0.2: \"blue\", 0.4: \"green\", 0.6: \"yellow\", 1.0: \"red\"})\n",
    "    m.add_child(folium_heatmap)\n",
    "    heatmaps.append(folium_heatmap)\n",
    "\n",
    "time_slider = widgets.IntSlider(min=0, max=t2m.shape[0] - 1, description=\"Time Step\")\n",
    "widgets.interactive(update_heatmap, time_step=time_slider)\n",
    "\n",
    "# Add the t2m layer to the FeatureGroup\n",
    "t2m_layer.add_to(m)\n",
    "\n",
    "folium.LayerControl().add_to(m)\n",
    "\n",
    "display(m)\n"
   ]
  }
 ],
 "metadata": {
  "kernelspec": {
   "display_name": "Python 3",
   "language": "python",
   "name": "python3"
  },
  "language_info": {
   "codemirror_mode": {
    "name": "ipython",
    "version": 3
   },
   "file_extension": ".py",
   "mimetype": "text/x-python",
   "name": "python",
   "nbconvert_exporter": "python",
   "pygments_lexer": "ipython3",
   "version": "3.10.12"
  }
 },
 "nbformat": 4,
 "nbformat_minor": 2
}
