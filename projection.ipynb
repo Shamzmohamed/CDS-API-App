{
 "cells": [
  {
   "cell_type": "code",
   "execution_count": 3,
   "metadata": {},
   "outputs": [
    {
     "data": {
      "text/plain": [
       "'/home/mohamed/Documents/CDS-API-Connect/CDS-API-App/t2m_201801.tif'"
      ]
     },
     "execution_count": 3,
     "metadata": {},
     "output_type": "execute_result"
    }
   ],
   "source": [
    "import leafmap\n",
    "\n",
    "# Define the paths to your NetCDF dataset and the output GeoTIFF file\n",
    "datapath = '/home/mohamed/Documents/ERA5/Data/t2m_201801.nc'\n",
    "tif = 't2m_201801.tif'  # Output GeoTIFF file\n",
    "\n",
    "# Specify the variable name to be converted (e.g., 't2m' based on your dataset)\n",
    "variable_name = 't2m'\n",
    "lat_var = 'latitude'\n",
    "lon_var = 'longitude'\n",
    "\n",
    "# Convert the NetCDF dataset to GeoTIFF with latitude and longitude specified\n",
    "leafmap.netcdf_to_tif(datapath, tif, variables=[variable_name], shift_lon=True, lat=lat_var, lon=lon_var)\n"
   ]
  },
  {
   "cell_type": "code",
   "execution_count": 1,
   "metadata": {},
   "outputs": [],
   "source": [
    "from osgeo import gdal, osr\n",
    "from netCDF4 import Dataset\n",
    "\n",
    "# Input NetCDF file\n",
    "input_nc_file = \"/home/mohamed/Documents/ERA5/Data/t2m_201801.nc\"\n",
    "\n",
    "# Output GeoTIFF file\n",
    "output_geotiff = \"/home/mohamed/Documents/ERA5/Data/t2mconv.tif\"\n",
    "\n",
    "# Open the NetCDF file\n",
    "nc_dataset = Dataset(input_nc_file, \"r\")\n",
    "\n",
    "# Get the data array and dimensions\n",
    "data = nc_dataset.variables['t2m'][0, :, :]  # Replace 'variable_name' with the actual variable name in your NetCDF file\n",
    "x_dim = nc_dataset.variables['longitude']\n",
    "y_dim = nc_dataset.variables['latitude']\n",
    "\n",
    "# Create a new GeoTIFF file\n",
    "driver = gdal.GetDriverByName(\"GTiff\")\n",
    "output_ds = driver.Create(output_geotiff, len(x_dim), len(y_dim), 1, gdal.GDT_Float32)\n",
    "\n",
    "# Set the GeoTransform (assuming a regular grid)\n",
    "x_start, x_step = x_dim[0], x_dim[1] - x_dim[0]\n",
    "y_start, y_step = y_dim[0], y_dim[1] - y_dim[0]\n",
    "output_ds.SetGeoTransform((x_start, x_step, 0, y_start, 0, y_step))\n",
    "\n",
    "# Set the spatial reference (EPSG:4326 for WGS84)\n",
    "srs = osr.SpatialReference()\n",
    "srs.ImportFromEPSG(4326)\n",
    "output_ds.SetProjection(srs.ExportToWkt())\n",
    "\n",
    "# Write the data to the GeoTIFF file\n",
    "output_band = output_ds.GetRasterBand(1)\n",
    "output_band.WriteArray(data)\n",
    "\n",
    "# Close the datasets\n",
    "output_ds = None\n",
    "nc_dataset.close()"
   ]
  },
  {
   "cell_type": "code",
   "execution_count": 4,
   "metadata": {},
   "outputs": [],
   "source": [
    "geojson = 'https://github.com/opengeos/leafmap/raw/master/examples/data/countries.geojson'"
   ]
  },
  {
   "cell_type": "code",
   "execution_count": 5,
   "metadata": {},
   "outputs": [],
   "source": [
    "tif='/home/mohamed/Documents/CDS-API-Connect/CDS-API-App/t2m_201801.tif'"
   ]
  },
  {
   "cell_type": "code",
   "execution_count": 11,
   "metadata": {},
   "outputs": [
    {
     "data": {
      "image/png": "[encoded data removed]",
      "text/html": [
       "<div style=\"vertical-align: middle;\"><strong>coolwarm</strong> </div><div class=\"cmap\"><img alt=\"coolwarm colormap\" title=\"coolwarm\" style=\"border: 1px solid #555;\" src=\"data:image/png;base64,iVBORw0KGgoAAAANSUhEUgAAAgAAAABACAYAAABsv8+/AAAAF3RFWHRUaXRsZQBjb29sd2FybSBjb2xvcm1hcPHW9i4AAAAddEVYdERlc2NyaXB0aW9uAGNvb2x3YXJtIGNvbG9ybWFw2KgRBwAAADB0RVh0QXV0aG9yAE1hdHBsb3RsaWIgdjMuNS4xLCBodHRwczovL21hdHBsb3RsaWIub3Jn97fOzwAAADJ0RVh0U29mdHdhcmUATWF0cGxvdGxpYiB2My41LjEsIGh0dHBzOi8vbWF0cGxvdGxpYi5vcmfZEVHoAAACIUlEQVR4nO3WO3LbQBBF0QaW5TV40d6XTIwTCCo2MQQYOHrnJKr5NRip7vLr959RVbUsS1VVLetaVVXr+rzu50s7X2fnt+cu+/n5/nF+8Z315buz9/3310fzXvfrfP73nOn8mnzv+f7xfva9/bzPu9w/vnM+b36v3t+72J/fGxfvx739mt1v82tyXv13jPO5x7175y/fm53f3F/7fm333vf7o+2P7cP18371e+P9nOrvR/995/e+59ZkPZ17rN/fO+Zufe75vdr67znfv3o3tnv3Lt/t69HW3+fH/Zc579+/rLc2r82fzevf7/ePv+Pq3uTdf9rfHu/v/5y3e/v+1uc/tud3j8m84/0+72tf/x2frb+e/18BAEEEAAAEEgAAEEgAAEAgAQAAgQQAAAQSAAAQSAAAQCABAACBBAAABBIAABBIAABAIAEAAIEEAAAEEgAAEEgAAEAgAQAAgQQAAAQSAAAQSAAAQCABAACBBAAABBIAABBIAABAIAEAAIEEAAAEEgAAEEgAAEAgAQAAgQQAAAQSAAAQSAAAQCABAACBBAAABBIAABBIAABAIAEAAIEEAAAEEgAAEEgAAEAgAQAAgQQAAAQSAAAQSAAAQCABAACBBAAABBIAABBIAABAIAEAAIEEAAAEEgAAEEgAAEAgAQAAgQQAAAQSAAAQSAAAQCABAACBBAAABBIAABBIAABAIAEAAIEEAAAEEgAAEOgf6GZUalYlbg8AAAAASUVORK5CYII=\"></div><div style=\"vertical-align: middle; max-width: 514px; display: flex; justify-content: space-between;\"><div style=\"float: left;\"><div title=\"#3b4cc0ff\" style=\"display: inline-block; width: 1em; height: 1em; margin: 0; vertical-align: middle; border: 1px solid #555; background-color: #3b4cc0ff;\"></div> under</div><div style=\"margin: 0 auto; display: inline-block;\">bad <div title=\"#00000000\" style=\"display: inline-block; width: 1em; height: 1em; margin: 0; vertical-align: middle; border: 1px solid #555; background-color: #00000000;\"></div></div><div style=\"float: right;\">over <div title=\"#b40426ff\" style=\"display: inline-block; width: 1em; height: 1em; margin: 0; vertical-align: middle; border: 1px solid #555; background-color: #b40426ff;\"></div></div>"
      ],
      "text/plain": [
       "<matplotlib.colors.LinearSegmentedColormap at 0x7f7ad4cd6ec0>"
      ]
     },
     "execution_count": 11,
     "metadata": {},
     "output_type": "execute_result"
    }
   ],
   "source": [
    "import matplotlib.pyplot as plt\n",
    "plt.get_cmap('coolwarm')"
   ]
  },
  {
   "cell_type": "code",
   "execution_count": 12,
   "metadata": {},
   "outputs": [
    {
     "ename": "AttributeError",
     "evalue": "'ColormapRegistry' object has no attribute 'get_cmap'",
     "output_type": "error",
     "traceback": [
      "\u001b[0;31m---------------------------------------------------------------------------\u001b[0m",
      "\u001b[0;31mAttributeError\u001b[0m                            Traceback (most recent call last)",
      "\u001b[1;32m/home/mohamed/Documents/CDS-API-Connect/CDS-API-App/projection.ipynb Cell 8\u001b[0m line \u001b[0;36m2\n\u001b[1;32m      <a href='vscode-notebook-cell:/home/mohamed/Documents/CDS-API-Connect/CDS-API-App/projection.ipynb#W6sZmlsZQ%3D%3D?line=0'>1</a>\u001b[0m m \u001b[39m=\u001b[39m leafmap\u001b[39m.\u001b[39mMap(layers_control\u001b[39m=\u001b[39m\u001b[39mTrue\u001b[39;00m)\n\u001b[0;32m----> <a href='vscode-notebook-cell:/home/mohamed/Documents/CDS-API-Connect/CDS-API-App/projection.ipynb#W6sZmlsZQ%3D%3D?line=1'>2</a>\u001b[0m m\u001b[39m.\u001b[39;49madd_raster(tif, band\u001b[39m=\u001b[39;49m[\u001b[39m1\u001b[39;49m], palette\u001b[39m=\u001b[39;49m\u001b[39m'\u001b[39;49m\u001b[39mcoolwarm\u001b[39;49m\u001b[39m'\u001b[39;49m, layer_name\u001b[39m=\u001b[39;49m\u001b[39m'\u001b[39;49m\u001b[39mt2m\u001b[39;49m\u001b[39m'\u001b[39;49m)\n\u001b[1;32m      <a href='vscode-notebook-cell:/home/mohamed/Documents/CDS-API-Connect/CDS-API-App/projection.ipynb#W6sZmlsZQ%3D%3D?line=2'>3</a>\u001b[0m m\u001b[39m.\u001b[39madd_geojson(geojson, layer_name\u001b[39m=\u001b[39m\u001b[39m'\u001b[39m\u001b[39mCountries\u001b[39m\u001b[39m'\u001b[39m)\n\u001b[1;32m      <a href='vscode-notebook-cell:/home/mohamed/Documents/CDS-API-Connect/CDS-API-App/projection.ipynb#W6sZmlsZQ%3D%3D?line=3'>4</a>\u001b[0m m\n",
      "File \u001b[0;32m~/.local/lib/python3.10/site-packages/leafmap/leafmap.py:2033\u001b[0m, in \u001b[0;36mMap.add_raster\u001b[0;34m(self, source, band, palette, vmin, vmax, nodata, attribution, layer_name, zoom_to_layer, visible, **kwargs)\u001b[0m\n\u001b[1;32m   1998\u001b[0m \u001b[39mdef\u001b[39;00m \u001b[39madd_raster\u001b[39m(\n\u001b[1;32m   1999\u001b[0m     \u001b[39mself\u001b[39m,\n\u001b[1;32m   2000\u001b[0m     source,\n\u001b[0;32m   (...)\u001b[0m\n\u001b[1;32m   2010\u001b[0m     \u001b[39m*\u001b[39m\u001b[39m*\u001b[39mkwargs,\n\u001b[1;32m   2011\u001b[0m ):\n\u001b[1;32m   2012\u001b[0m \u001b[39m    \u001b[39m\u001b[39m\"\"\"Add a local raster dataset to the map.\u001b[39;00m\n\u001b[1;32m   2013\u001b[0m \u001b[39m        If you are using this function in JupyterHub on a remote server (e.g., Binder, Microsoft Planetary Computer) and\u001b[39;00m\n\u001b[1;32m   2014\u001b[0m \u001b[39m        if the raster does not render properly, try installing jupyter-server-proxy using `pip install jupyter-server-proxy`,\u001b[39;00m\n\u001b[0;32m   (...)\u001b[0m\n\u001b[1;32m   2030\u001b[0m \u001b[39m        visible (bool, optional): Whether the layer is visible. Defaults to True.\u001b[39;00m\n\u001b[1;32m   2031\u001b[0m \u001b[39m    \"\"\"\u001b[39;00m\n\u001b[0;32m-> 2033\u001b[0m     tile_layer, tile_client \u001b[39m=\u001b[39m get_local_tile_layer(\n\u001b[1;32m   2034\u001b[0m         source,\n\u001b[1;32m   2035\u001b[0m         band\u001b[39m=\u001b[39;49mband,\n\u001b[1;32m   2036\u001b[0m         palette\u001b[39m=\u001b[39;49mpalette,\n\u001b[1;32m   2037\u001b[0m         vmin\u001b[39m=\u001b[39;49mvmin,\n\u001b[1;32m   2038\u001b[0m         vmax\u001b[39m=\u001b[39;49mvmax,\n\u001b[1;32m   2039\u001b[0m         nodata\u001b[39m=\u001b[39;49mnodata,\n\u001b[1;32m   2040\u001b[0m         attribution\u001b[39m=\u001b[39;49mattribution,\n\u001b[1;32m   2041\u001b[0m         layer_name\u001b[39m=\u001b[39;49mlayer_name,\n\u001b[1;32m   2042\u001b[0m         return_client\u001b[39m=\u001b[39;49m\u001b[39mTrue\u001b[39;49;00m,\n\u001b[1;32m   2043\u001b[0m         \u001b[39m*\u001b[39;49m\u001b[39m*\u001b[39;49mkwargs,\n\u001b[1;32m   2044\u001b[0m     )\n\u001b[1;32m   2045\u001b[0m     tile_layer\u001b[39m.\u001b[39mvisible \u001b[39m=\u001b[39m visible\n\u001b[1;32m   2047\u001b[0m     \u001b[39mself\u001b[39m\u001b[39m.\u001b[39madd(tile_layer)\n",
      "File \u001b[0;32m~/.local/lib/python3.10/site-packages/leafmap/common.py:2919\u001b[0m, in \u001b[0;36mget_local_tile_layer\u001b[0;34m(source, port, debug, projection, band, palette, vmin, vmax, nodata, attribution, tile_format, layer_name, return_client, quiet, **kwargs)\u001b[0m\n\u001b[1;32m   2917\u001b[0m \u001b[39melse\u001b[39;00m:\n\u001b[1;32m   2918\u001b[0m     \u001b[39mif\u001b[39;00m tile_format \u001b[39m==\u001b[39m \u001b[39m\"\u001b[39m\u001b[39mipyleaflet\u001b[39m\u001b[39m\"\u001b[39m:\n\u001b[0;32m-> 2919\u001b[0m         tile_layer \u001b[39m=\u001b[39m get_leaflet_tile_layer(\n\u001b[1;32m   2920\u001b[0m             tile_client,\n\u001b[1;32m   2921\u001b[0m             port\u001b[39m=\u001b[39;49mport,\n\u001b[1;32m   2922\u001b[0m             debug\u001b[39m=\u001b[39;49mdebug,\n\u001b[1;32m   2923\u001b[0m             projection\u001b[39m=\u001b[39;49mprojection,\n\u001b[1;32m   2924\u001b[0m             band\u001b[39m=\u001b[39;49mband,\n\u001b[1;32m   2925\u001b[0m             vmin\u001b[39m=\u001b[39;49mvmin,\n\u001b[1;32m   2926\u001b[0m             vmax\u001b[39m=\u001b[39;49mvmax,\n\u001b[1;32m   2927\u001b[0m             nodata\u001b[39m=\u001b[39;49mnodata,\n\u001b[1;32m   2928\u001b[0m             attribution\u001b[39m=\u001b[39;49mattribution,\n\u001b[1;32m   2929\u001b[0m             name\u001b[39m=\u001b[39;49mlayer_name,\n\u001b[1;32m   2930\u001b[0m             \u001b[39m*\u001b[39;49m\u001b[39m*\u001b[39;49mkwargs,\n\u001b[1;32m   2931\u001b[0m         )\n\u001b[1;32m   2932\u001b[0m     \u001b[39melse\u001b[39;00m:\n\u001b[1;32m   2933\u001b[0m         tile_layer \u001b[39m=\u001b[39m get_folium_tile_layer(\n\u001b[1;32m   2934\u001b[0m             tile_client,\n\u001b[1;32m   2935\u001b[0m             port\u001b[39m=\u001b[39mport,\n\u001b[0;32m   (...)\u001b[0m\n\u001b[1;32m   2945\u001b[0m             \u001b[39m*\u001b[39m\u001b[39m*\u001b[39mkwargs,\n\u001b[1;32m   2946\u001b[0m         )\n",
      "File \u001b[0;32m~/.local/lib/python3.10/site-packages/localtileserver/widgets.py:111\u001b[0m, in \u001b[0;36mget_leaflet_tile_layer\u001b[0;34m(source, port, debug, projection, band, palette, vmin, vmax, nodata, scheme, n_colors, attribution, style, cmap, default_projection, **kwargs)\u001b[0m\n\u001b[1;32m    106\u001b[0m     bounds \u001b[39m=\u001b[39m Union((Tuple(),), default_value\u001b[39m=\u001b[39m\u001b[39mNone\u001b[39;00m, allow_none\u001b[39m=\u001b[39m\u001b[39mTrue\u001b[39;00m)\u001b[39m.\u001b[39mtag(sync\u001b[39m=\u001b[39m\u001b[39mTrue\u001b[39;00m, o\u001b[39m=\u001b[39m\u001b[39mTrue\u001b[39;00m)\n\u001b[1;32m    108\u001b[0m source, created \u001b[39m=\u001b[39m get_or_create_tile_client(\n\u001b[1;32m    109\u001b[0m     source, port\u001b[39m=\u001b[39mport, debug\u001b[39m=\u001b[39mdebug, default_projection\u001b[39m=\u001b[39mdefault_projection\n\u001b[1;32m    110\u001b[0m )\n\u001b[0;32m--> 111\u001b[0m url \u001b[39m=\u001b[39m source\u001b[39m.\u001b[39;49mget_tile_url(\n\u001b[1;32m    112\u001b[0m     projection\u001b[39m=\u001b[39;49mprojection,\n\u001b[1;32m    113\u001b[0m     band\u001b[39m=\u001b[39;49mkwargs\u001b[39m.\u001b[39;49mget(\u001b[39m\"\u001b[39;49m\u001b[39mbands\u001b[39;49m\u001b[39m\"\u001b[39;49m, band),\n\u001b[1;32m    114\u001b[0m     palette\u001b[39m=\u001b[39;49mpalette,\n\u001b[1;32m    115\u001b[0m     vmin\u001b[39m=\u001b[39;49mvmin,\n\u001b[1;32m    116\u001b[0m     vmax\u001b[39m=\u001b[39;49mvmax,\n\u001b[1;32m    117\u001b[0m     nodata\u001b[39m=\u001b[39;49mnodata,\n\u001b[1;32m    118\u001b[0m     scheme\u001b[39m=\u001b[39;49mscheme,\n\u001b[1;32m    119\u001b[0m     n_colors\u001b[39m=\u001b[39;49mn_colors,\n\u001b[1;32m    120\u001b[0m     style\u001b[39m=\u001b[39;49mstyle,\n\u001b[1;32m    121\u001b[0m     cmap\u001b[39m=\u001b[39;49mcmap,\n\u001b[1;32m    122\u001b[0m     client\u001b[39m=\u001b[39;49m\u001b[39mTrue\u001b[39;49;00m,\n\u001b[1;32m    123\u001b[0m )\n\u001b[1;32m    124\u001b[0m \u001b[39mif\u001b[39;00m attribution \u001b[39mis\u001b[39;00m \u001b[39mNone\u001b[39;00m:\n\u001b[1;32m    125\u001b[0m     attribution \u001b[39m=\u001b[39m DEFAULT_ATTRIBUTION\n",
      "File \u001b[0;32m~/.local/lib/python3.10/site-packages/localtileserver/client.py:963\u001b[0m, in \u001b[0;36mBaseTileClient.get_tile_url\u001b[0;34m(self, client, *args, **kwargs)\u001b[0m\n\u001b[1;32m    961\u001b[0m \u001b[39m@wraps\u001b[39m(BaseTileClientInterface\u001b[39m.\u001b[39mget_tile_url_params)\n\u001b[1;32m    962\u001b[0m \u001b[39mdef\u001b[39;00m \u001b[39mget_tile_url\u001b[39m(\u001b[39mself\u001b[39m, \u001b[39m*\u001b[39margs, client: \u001b[39mbool\u001b[39m \u001b[39m=\u001b[39m \u001b[39mFalse\u001b[39;00m, \u001b[39m*\u001b[39m\u001b[39m*\u001b[39mkwargs):\n\u001b[0;32m--> 963\u001b[0m     params \u001b[39m=\u001b[39m \u001b[39mself\u001b[39;49m\u001b[39m.\u001b[39;49mget_tile_url_params(\u001b[39m*\u001b[39;49margs, \u001b[39m*\u001b[39;49m\u001b[39m*\u001b[39;49mkwargs)\n\u001b[1;32m    964\u001b[0m     \u001b[39mreturn\u001b[39;00m add_query_parameters(\n\u001b[1;32m    965\u001b[0m         \u001b[39mself\u001b[39m\u001b[39m.\u001b[39mcreate_url(\u001b[39m\"\u001b[39m\u001b[39mapi/tiles/\u001b[39m\u001b[39m{z}\u001b[39;00m\u001b[39m/\u001b[39m\u001b[39m{x}\u001b[39;00m\u001b[39m/\u001b[39m\u001b[39m{y}\u001b[39;00m\u001b[39m.png\u001b[39m\u001b[39m\"\u001b[39m, client\u001b[39m=\u001b[39mclient), params\n\u001b[1;32m    966\u001b[0m     )\n",
      "File \u001b[0;32m~/.local/lib/python3.10/site-packages/localtileserver/client.py:219\u001b[0m, in \u001b[0;36mBaseTileClientInterface.get_tile_url_params\u001b[0;34m(self, projection, band, palette, vmin, vmax, nodata, scheme, n_colors, grid, style, cmap)\u001b[0m\n\u001b[1;32m    161\u001b[0m \u001b[39mdef\u001b[39;00m \u001b[39mget_tile_url_params\u001b[39m(\n\u001b[1;32m    162\u001b[0m     \u001b[39mself\u001b[39m,\n\u001b[1;32m    163\u001b[0m     projection: Optional[\u001b[39mstr\u001b[39m] \u001b[39m=\u001b[39m \u001b[39m\"\u001b[39m\u001b[39m\"\u001b[39m,\n\u001b[0;32m   (...)\u001b[0m\n\u001b[1;32m    173\u001b[0m     cmap: Union[\u001b[39mstr\u001b[39m, List[\u001b[39mstr\u001b[39m]] \u001b[39m=\u001b[39m \u001b[39mNone\u001b[39;00m,\n\u001b[1;32m    174\u001b[0m ):\n\u001b[1;32m    175\u001b[0m \u001b[39m    \u001b[39m\u001b[39m\"\"\"Get slippy maps tile URL (e.g., `/zoom/x/y.png`).\u001b[39;00m\n\u001b[1;32m    176\u001b[0m \n\u001b[1;32m    177\u001b[0m \u001b[39m    Parameters\u001b[39;00m\n\u001b[0;32m   (...)\u001b[0m\n\u001b[1;32m    217\u001b[0m \n\u001b[1;32m    218\u001b[0m \u001b[39m    \"\"\"\u001b[39;00m\n\u001b[0;32m--> 219\u001b[0m     params \u001b[39m=\u001b[39m \u001b[39mself\u001b[39;49m\u001b[39m.\u001b[39;49m_get_style_params(\n\u001b[1;32m    220\u001b[0m         band\u001b[39m=\u001b[39;49mband,\n\u001b[1;32m    221\u001b[0m         palette\u001b[39m=\u001b[39;49mpalette,\n\u001b[1;32m    222\u001b[0m         vmin\u001b[39m=\u001b[39;49mvmin,\n\u001b[1;32m    223\u001b[0m         vmax\u001b[39m=\u001b[39;49mvmax,\n\u001b[1;32m    224\u001b[0m         nodata\u001b[39m=\u001b[39;49mnodata,\n\u001b[1;32m    225\u001b[0m         scheme\u001b[39m=\u001b[39;49mscheme,\n\u001b[1;32m    226\u001b[0m         n_colors\u001b[39m=\u001b[39;49mn_colors,\n\u001b[1;32m    227\u001b[0m         style\u001b[39m=\u001b[39;49mstyle,\n\u001b[1;32m    228\u001b[0m         cmap\u001b[39m=\u001b[39;49mcmap,\n\u001b[1;32m    229\u001b[0m     )\n\u001b[1;32m    230\u001b[0m     \u001b[39mif\u001b[39;00m \u001b[39mnot\u001b[39;00m projection:\n\u001b[1;32m    231\u001b[0m         projection \u001b[39m=\u001b[39m \u001b[39mself\u001b[39m\u001b[39m.\u001b[39mdefault_projection\n",
      "File \u001b[0;32m~/.local/lib/python3.10/site-packages/localtileserver/client.py:137\u001b[0m, in \u001b[0;36mBaseTileClientInterface._get_style_params\u001b[0;34m(self, band, palette, vmin, vmax, nodata, scheme, n_colors, style, cmap)\u001b[0m\n\u001b[1;32m    135\u001b[0m         palette \u001b[39m=\u001b[39m cmap\n\u001b[1;32m    136\u001b[0m     \u001b[39m# make sure palette is valid\u001b[39;00m\n\u001b[0;32m--> 137\u001b[0m     palette_valid_or_raise(palette)\n\u001b[1;32m    138\u001b[0m     params[\u001b[39m\"\u001b[39m\u001b[39mpalette\u001b[39m\u001b[39m\"\u001b[39m] \u001b[39m=\u001b[39m palette\n\u001b[1;32m    139\u001b[0m \u001b[39mif\u001b[39;00m vmin \u001b[39mis\u001b[39;00m \u001b[39mnot\u001b[39;00m \u001b[39mNone\u001b[39;00m:\n",
      "File \u001b[0;32m~/.local/lib/python3.10/site-packages/localtileserver/tiler/palettes.py:66\u001b[0m, in \u001b[0;36mpalette_valid_or_raise\u001b[0;34m(name)\u001b[0m\n\u001b[1;32m     64\u001b[0m     status \u001b[39m=\u001b[39m is_valid_palette_name(name)\n\u001b[1;32m     65\u001b[0m \u001b[39melif\u001b[39;00m \u001b[39misinstance\u001b[39m(name, (\u001b[39mlist\u001b[39m, \u001b[39mtuple\u001b[39m)):\n\u001b[0;32m---> 66\u001b[0m     status \u001b[39m=\u001b[39m \u001b[39mall\u001b[39m([is_valid_palette_name(p) \u001b[39mfor\u001b[39;00m p \u001b[39min\u001b[39;00m name]) \u001b[39mor\u001b[39;00m \u001b[39mall\u001b[39m([is_hex_str(p) \u001b[39mfor\u001b[39;00m p \u001b[39min\u001b[39;00m name])\n\u001b[1;32m     67\u001b[0m \u001b[39mif\u001b[39;00m \u001b[39mnot\u001b[39;00m status:\n\u001b[1;32m     68\u001b[0m     \u001b[39mraise\u001b[39;00m \u001b[39mValueError\u001b[39;00m(\n\u001b[1;32m     69\u001b[0m         \u001b[39mf\u001b[39m\u001b[39m\"\u001b[39m\u001b[39mPlease use a valid matplotlib colormap name or palettable palette name. Invalid: \u001b[39m\u001b[39m{\u001b[39;00mname\u001b[39m}\u001b[39;00m\u001b[39m\"\u001b[39m\n\u001b[1;32m     70\u001b[0m     )\n",
      "File \u001b[0;32m~/.local/lib/python3.10/site-packages/localtileserver/tiler/palettes.py:66\u001b[0m, in \u001b[0;36m<listcomp>\u001b[0;34m(.0)\u001b[0m\n\u001b[1;32m     64\u001b[0m     status \u001b[39m=\u001b[39m is_valid_palette_name(name)\n\u001b[1;32m     65\u001b[0m \u001b[39melif\u001b[39;00m \u001b[39misinstance\u001b[39m(name, (\u001b[39mlist\u001b[39m, \u001b[39mtuple\u001b[39m)):\n\u001b[0;32m---> 66\u001b[0m     status \u001b[39m=\u001b[39m \u001b[39mall\u001b[39m([is_valid_palette_name(p) \u001b[39mfor\u001b[39;00m p \u001b[39min\u001b[39;00m name]) \u001b[39mor\u001b[39;00m \u001b[39mall\u001b[39m([is_hex_str(p) \u001b[39mfor\u001b[39;00m p \u001b[39min\u001b[39;00m name])\n\u001b[1;32m     67\u001b[0m \u001b[39mif\u001b[39;00m \u001b[39mnot\u001b[39;00m status:\n\u001b[1;32m     68\u001b[0m     \u001b[39mraise\u001b[39;00m \u001b[39mValueError\u001b[39;00m(\n\u001b[1;32m     69\u001b[0m         \u001b[39mf\u001b[39m\u001b[39m\"\u001b[39m\u001b[39mPlease use a valid matplotlib colormap name or palettable palette name. Invalid: \u001b[39m\u001b[39m{\u001b[39;00mname\u001b[39m}\u001b[39;00m\u001b[39m\"\u001b[39m\n\u001b[1;32m     70\u001b[0m     )\n",
      "File \u001b[0;32m~/.local/lib/python3.10/site-packages/localtileserver/tiler/palettes.py:58\u001b[0m, in \u001b[0;36mis_valid_palette_name\u001b[0;34m(name)\u001b[0m\n\u001b[1;32m     57\u001b[0m \u001b[39mdef\u001b[39;00m \u001b[39mis_valid_palette_name\u001b[39m(name: \u001b[39mstr\u001b[39m):\n\u001b[0;32m---> 58\u001b[0m     \u001b[39mreturn\u001b[39;00m is_palettable_palette(name) \u001b[39mor\u001b[39;00m name \u001b[39min\u001b[39;00m SIMPLE_PALETTES \u001b[39mor\u001b[39;00m is_mpl_cmap(name)\n",
      "File \u001b[0;32m~/.local/lib/python3.10/site-packages/localtileserver/tiler/palettes.py:48\u001b[0m, in \u001b[0;36mis_mpl_cmap\u001b[0;34m(name)\u001b[0m\n\u001b[1;32m     45\u001b[0m \u001b[39mtry\u001b[39;00m:\n\u001b[1;32m     46\u001b[0m     \u001b[39mimport\u001b[39;00m \u001b[39mmatplotlib\u001b[39;00m\n\u001b[0;32m---> 48\u001b[0m     matplotlib\u001b[39m.\u001b[39;49mcolormaps\u001b[39m.\u001b[39;49mget_cmap(name)\n\u001b[1;32m     49\u001b[0m     \u001b[39mreturn\u001b[39;00m \u001b[39mTrue\u001b[39;00m\n\u001b[1;32m     50\u001b[0m \u001b[39mexcept\u001b[39;00m \u001b[39mImportError\u001b[39;00m:  \u001b[39m# pragma: no cover\u001b[39;00m\n",
      "\u001b[0;31mAttributeError\u001b[0m: 'ColormapRegistry' object has no attribute 'get_cmap'"
     ]
    }
   ],
   "source": [
    "m = leafmap.Map(layers_control=True)\n",
    "m.add_raster(tif, band=[1], palette='coolwarm', layer_name='t2m')\n",
    "m.add_geojson(geojson, layer_name='Countries')\n",
    "m"
   ]
  },
  {
   "cell_type": "code",
   "execution_count": 18,
   "metadata": {},
   "outputs": [
    {
     "data": {
      "text/html": [
       "\n",
       "            <style>\n",
       "                .geemap-dark {\n",
       "                    --jp-widgets-color: white;\n",
       "                    --jp-widgets-label-color: white;\n",
       "                    --jp-ui-font-color1: white;\n",
       "                    --jp-layout-color2: #454545;\n",
       "                    background-color: #383838;\n",
       "                }\n",
       "                    \n",
       "                .geemap-dark .jupyter-button {\n",
       "                    --jp-layout-color3: #383838;\n",
       "                }\n",
       "                \n",
       "                .geemap-colab {\n",
       "                    background-color: var(--colab-primary-surface-color, white);\n",
       "                }\n",
       "                    \n",
       "                .geemap-colab .jupyter-button {\n",
       "                    --jp-layout-color3: var(--colab-primary-surface-color, white);\n",
       "                }\n",
       "            </style>\n",
       "            "
      ],
      "text/plain": [
       "<IPython.core.display.HTML object>"
      ]
     },
     "metadata": {},
     "output_type": "display_data"
    },
    {
     "data": {
      "text/html": [
       "<div style=\"width:100%;\"><div style=\"position:relative;width:100%;height:0;padding-bottom:60%;\"><span style=\"color:#565656\">Make this Notebook Trusted to load map: File -> Trust Notebook</span><iframe srcdoc=\"&lt;!DOCTYPE html&gt;\n",
       "&lt;html&gt;\n",
       "&lt;head&gt;\n",
       "    \n",
       "    &lt;meta http-equiv=&quot;content-type&quot; content=&quot;text/html; charset=UTF-8&quot; /&gt;\n",
       "    \n",
       "        &lt;script&gt;\n",
       "            L_NO_TOUCH = false;\n",
       "            L_DISABLE_3D = false;\n",
       "        &lt;/script&gt;\n",
       "    \n",
       "    &lt;style&gt;html, body {width: 100%;height: 100%;margin: 0;padding: 0;}&lt;/style&gt;\n",
       "    &lt;style&gt;#map {position:absolute;top:0;bottom:0;right:0;left:0;}&lt;/style&gt;\n",
       "    &lt;script src=&quot;https://cdn.jsdelivr.net/npm/leaflet@1.9.3/dist/leaflet.js&quot;&gt;&lt;/script&gt;\n",
       "    &lt;script src=&quot;https://code.jquery.com/jquery-1.12.4.min.js&quot;&gt;&lt;/script&gt;\n",
       "    &lt;script src=&quot;https://cdn.jsdelivr.net/npm/bootstrap@5.2.2/dist/js/bootstrap.bundle.min.js&quot;&gt;&lt;/script&gt;\n",
       "    &lt;script src=&quot;https://cdnjs.cloudflare.com/ajax/libs/Leaflet.awesome-markers/2.0.2/leaflet.awesome-markers.js&quot;&gt;&lt;/script&gt;\n",
       "    &lt;link rel=&quot;stylesheet&quot; href=&quot;https://cdn.jsdelivr.net/npm/leaflet@1.9.3/dist/leaflet.css&quot;/&gt;\n",
       "    &lt;link rel=&quot;stylesheet&quot; href=&quot;https://cdn.jsdelivr.net/npm/bootstrap@5.2.2/dist/css/bootstrap.min.css&quot;/&gt;\n",
       "    &lt;link rel=&quot;stylesheet&quot; href=&quot;https://netdna.bootstrapcdn.com/bootstrap/3.0.0/css/bootstrap.min.css&quot;/&gt;\n",
       "    &lt;link rel=&quot;stylesheet&quot; href=&quot;https://cdn.jsdelivr.net/npm/@fortawesome/fontawesome-free@6.2.0/css/all.min.css&quot;/&gt;\n",
       "    &lt;link rel=&quot;stylesheet&quot; href=&quot;https://cdnjs.cloudflare.com/ajax/libs/Leaflet.awesome-markers/2.0.2/leaflet.awesome-markers.css&quot;/&gt;\n",
       "    &lt;link rel=&quot;stylesheet&quot; href=&quot;https://cdn.jsdelivr.net/gh/python-visualization/folium/folium/templates/leaflet.awesome.rotate.min.css&quot;/&gt;\n",
       "    \n",
       "            &lt;meta name=&quot;viewport&quot; content=&quot;width=device-width,\n",
       "                initial-scale=1.0, maximum-scale=1.0, user-scalable=no&quot; /&gt;\n",
       "            &lt;style&gt;\n",
       "                #map_0283da3781ee2b1eca40353fc02956e0 {\n",
       "                    position: relative;\n",
       "                    width: 100.0%;\n",
       "                    height: 100.0%;\n",
       "                    left: 0.0%;\n",
       "                    top: 0.0%;\n",
       "                }\n",
       "                .leaflet-container { font-size: 1rem; }\n",
       "            &lt;/style&gt;\n",
       "        \n",
       "&lt;/head&gt;\n",
       "&lt;body&gt;\n",
       "    \n",
       "    \n",
       "            &lt;div class=&quot;folium-map&quot; id=&quot;map_0283da3781ee2b1eca40353fc02956e0&quot; &gt;&lt;/div&gt;\n",
       "        \n",
       "&lt;/body&gt;\n",
       "&lt;script&gt;\n",
       "    \n",
       "    \n",
       "            var map_0283da3781ee2b1eca40353fc02956e0 = L.map(\n",
       "                &quot;map_0283da3781ee2b1eca40353fc02956e0&quot;,\n",
       "                {\n",
       "                    center: [0.0, 179.875],\n",
       "                    crs: L.CRS.EPSG3857,\n",
       "                    zoom: 5,\n",
       "                    zoomControl: true,\n",
       "                    preferCanvas: false,\n",
       "                }\n",
       "            );\n",
       "\n",
       "            \n",
       "\n",
       "        \n",
       "    \n",
       "            var tile_layer_e5f54026b0413206e354150e5f2ebcf5 = L.tileLayer(\n",
       "                &quot;https://{s}.tile.openstreetmap.org/{z}/{x}/{y}.png&quot;,\n",
       "                {&quot;attribution&quot;: &quot;Data by \\u0026copy; \\u003ca target=\\&quot;_blank\\&quot; href=\\&quot;http://openstreetmap.org\\&quot;\\u003eOpenStreetMap\\u003c/a\\u003e, under \\u003ca target=\\&quot;_blank\\&quot; href=\\&quot;http://www.openstreetmap.org/copyright\\&quot;\\u003eODbL\\u003c/a\\u003e.&quot;, &quot;detectRetina&quot;: false, &quot;maxNativeZoom&quot;: 18, &quot;maxZoom&quot;: 18, &quot;minZoom&quot;: 0, &quot;noWrap&quot;: false, &quot;opacity&quot;: 1, &quot;subdomains&quot;: &quot;abc&quot;, &quot;tms&quot;: false}\n",
       "            ).addTo(map_0283da3781ee2b1eca40353fc02956e0);\n",
       "        \n",
       "    \n",
       "            var feature_group_38f78e63429e79d97b0ef18d4e528ed0 = L.featureGroup(\n",
       "                {}\n",
       "            ).addTo(map_0283da3781ee2b1eca40353fc02956e0);\n",
       "        \n",
       "    \n",
       "            var layer_control_ff43726e97a248f594be5ffcc3cef4b8 = {\n",
       "                base_layers : {\n",
       "                    &quot;openstreetmap&quot; : tile_layer_e5f54026b0413206e354150e5f2ebcf5,\n",
       "                },\n",
       "                overlays :  {\n",
       "                    &quot;2m Temperature&quot; : feature_group_38f78e63429e79d97b0ef18d4e528ed0,\n",
       "                },\n",
       "            };\n",
       "            L.control.layers(\n",
       "                layer_control_ff43726e97a248f594be5ffcc3cef4b8.base_layers,\n",
       "                layer_control_ff43726e97a248f594be5ffcc3cef4b8.overlays,\n",
       "                {&quot;autoZIndex&quot;: true, &quot;collapsed&quot;: true, &quot;position&quot;: &quot;topright&quot;}\n",
       "            ).addTo(map_0283da3781ee2b1eca40353fc02956e0);\n",
       "        \n",
       "&lt;/script&gt;\n",
       "&lt;/html&gt;\" style=\"position:absolute;width:100%;height:100%;left:0;top:0;border:none !important;\" allowfullscreen webkitallowfullscreen mozallowfullscreen></iframe></div></div>"
      ],
      "text/plain": [
       "<folium.folium.Map at 0x7f31a07cfdf0>"
      ]
     },
     "metadata": {},
     "output_type": "display_data"
    }
   ],
   "source": [
    "import folium\n",
    "import xarray as xr\n",
    "import numpy as np\n",
    "import ipywidgets as widgets\n",
    "from folium.plugins import HeatMap\n",
    "from IPython.display import display\n",
    "\n",
    "# Load the NetCDF file\n",
    "netcdf_url = \"/home/mohamed/Documents/ERA5/Data/t2m_20180106.nc\"\n",
    "ds = xr.open_dataset(netcdf_url)\n",
    "t2m = ds[\"t2m\"].values\n",
    "\n",
    "# Create a Folium Map\n",
    "m = folium.Map(location=[lat.mean(), lon.mean()], zoom_start=5)\n",
    "\n",
    "# Get the latitude and longitude arrays\n",
    "lat = ds[\"latitude\"].values\n",
    "lon = ds[\"longitude\"].values\n",
    "\n",
    "heatmaps = []\n",
    "t2m_layer = folium.FeatureGroup(name='2m Temperature')  # Create a FeatureGroup for t2m data\n",
    "\n",
    "def update_heatmap(time_step):\n",
    "    if heatmaps:\n",
    "        for heatmap in heatmaps:\n",
    "            m.remove_child(heatmap)\n",
    "        heatmaps.clear()\n",
    "\n",
    "    heatmap_data = list(zip(lat, lon, t2m[time_step]))\n",
    "    folium_heatmap = HeatMap(heatmap_data, radius=5, gradient={0.2: \"blue\", 0.4: \"green\", 0.6: \"yellow\", 1.0: \"red\"})\n",
    "    m.add_child(folium_heatmap)\n",
    "    heatmaps.append(folium_heatmap)\n",
    "\n",
    "time_slider = widgets.IntSlider(min=0, max=t2m.shape[0] - 1, description=\"Time Step\")\n",
    "widgets.interactive(update_heatmap, time_step=time_slider)\n",
    "\n",
    "# Add the t2m layer to the FeatureGroup\n",
    "t2m_layer.add_to(m)\n",
    "\n",
    "folium.LayerControl().add_to(m)\n",
    "\n",
    "display(m)\n"
   ]
  }
 ],
 "metadata": {
  "kernelspec": {
   "display_name": "Python 3",
   "language": "python",
   "name": "python3"
  },
  "language_info": {
   "codemirror_mode": {
    "name": "ipython",
    "version": 3
   },
   "file_extension": ".py",
   "mimetype": "text/x-python",
   "name": "python",
   "nbconvert_exporter": "python",
   "pygments_lexer": "ipython3",
   "version": "3.10.12"
  }
 },
 "nbformat": 4,
 "nbformat_minor": 2
}
